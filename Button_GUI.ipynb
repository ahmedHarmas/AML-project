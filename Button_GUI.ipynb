{
 "cells": [
  {
   "cell_type": "code",
   "execution_count": 9,
   "metadata": {},
   "outputs": [],
   "source": [
    "from tkinter import *\n",
    "import subprocess\n",
    "\n",
    "\n",
    "# Create the main window\n",
    "root = Tk()\n",
    "root.title(\"ML Project\")\n",
    "root.geometry(\"600x400\")\n",
    "root.configure(bg=\"lightblue\")\n",
    "\n",
    "# Button Functions \n",
    "def svr_fun():\n",
    "    subprocess.run([\"jupyter\", \"nbconvert\", \"--to\", \"script\", \"Final_SVR_model.ipynb\"])\n",
    "    subprocess.run([\"python\", \"Final_SVR_model.py\"])\n",
    "\n",
    "def decisionTree_fun():\n",
    "    subprocess.run([\"jupyter\", \"nbconvert\", \"--to\", \"script\", \"decision_tree.ipynb\"])\n",
    "    subprocess.run([\"python\", \"decision_tree.py\"])\n",
    "\n",
    "def nn_fun():\n",
    "    subprocess.run([\"jupyter\", \"nbconvert\", \"--to\", \"script\", \"salma.ipynb\"])\n",
    "    subprocess.run([\"python\", \"salma.py\"])\n",
    "\n",
    "\n",
    "# Create three buttons\n",
    "button1 = Button(root, text=\"SVR module\",bg=\"lightgreen\",activebackground=\"blue\",borderwidth=3,font=(\"Arial\",11,\"bold\"),border=10 , command=svr_fun )\n",
    "button1.pack(pady=20)\n",
    "\n",
    "button2 = Button(root, text=\"Decision_Tree module\",bg=\"lightgreen\",activebackground=\"blue\",borderwidth=3,font=(\"Arial\",11,\"bold\"), border=10 , command=decisionTree_fun)\n",
    "button2.pack(pady=20)\n",
    "\n",
    "button3 = Button(root, text=\"NN module\", bg=\"lightgreen\",activebackground=\"blue\",borderwidth=3,font=(\"Arial\",11,\"bold\"), border=10 , command=nn_fun,)\n",
    "button3.pack(pady=20)\n",
    "\n",
    "root.mainloop()\n",
    "\n"
   ]
  },
  {
   "cell_type": "code",
   "execution_count": null,
   "metadata": {},
   "outputs": [],
   "source": []
  }
 ],
 "metadata": {
  "kernelspec": {
   "display_name": "Python 3",
   "language": "python",
   "name": "python3"
  },
  "language_info": {
   "codemirror_mode": {
    "name": "ipython",
    "version": 3
   },
   "file_extension": ".py",
   "mimetype": "text/x-python",
   "name": "python",
   "nbconvert_exporter": "python",
   "pygments_lexer": "ipython3",
   "version": "3.10.11"
  }
 },
 "nbformat": 4,
 "nbformat_minor": 2
}
